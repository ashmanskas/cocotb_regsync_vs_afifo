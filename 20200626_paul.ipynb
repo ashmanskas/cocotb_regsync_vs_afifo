{
 "cells": [
  {
   "cell_type": "markdown",
   "metadata": {},
   "source": [
    "See [idle_hcc_injection.json](https://gitlab.cern.ch/atlas-itk-strips-daq/itsdaq-sw/-/blob/master/config/triggers/abc_star/idle_hcc_injection.json)"
   ]
  },
  {
   "cell_type": "markdown",
   "metadata": {},
   "source": [
    "```\n",
    "{\n",
    " \"signals\": {\n",
    "     \"LCB_1\": \"0x00000001\", \"LCB_0\": \"0x00000002\",\n",
    "     \"DatN0_0\": \"0x00001000\", \"DatN0_1\": \"0x00002000\",\n",
    "     \"Data1_0\": \"0x00000100\", \"Data1_1\": \"0x00000200\",\n",
    "     \"Data0_0\": \"0x00004000\", \"Data0_1\": \"0x00008000\",\n",
    "     \"Data2_0\": \"0x00010000\", \"Data2_1\": \"0x00020000\",\n",
    "     \"Data3_0\": \"0x00040000\", \"Data3_1\": \"0x00080000\",\n",
    "     \"Data4_0\": \"0x00100000\", \"Data4_1\": \"0x00200000\",\n",
    "     \"Data5_0\": \"0x00400000\", \"Data5_1\": \"0x00800000\",\n",
    "     \"Data6_0\": \"0x01000000\", \"Data6_1\": \"0x02000000\",\n",
    "     \"Data7_0\": \"0x04000000\", \"Data7_1\": \"0x08000000\",\n",
    "     \"Data8_0\": \"0x10000000\", \"Data8_1\": \"0x20000000\",\n",
    "     \"Data9_0\": \"0x40000000\", \"Data9_1\": \"0x80000000\",\n",
    "     \"Data10_0\":\"0x00001000\", \"Data10_1\":\"0x00002000\"\n",
    " },\n",
    "\n",
    " \"rate\": 80,\n",
    " \"remark\": \"This is for HCC/vector mode\",\n",
    "\n",
    "  \"remark\": [\"Inject ABC data into HCC\",\n",
    "             \"000000000000000000000000000111111000011000000001100001100110\",\n",
    "             \"000000011000011000000001111110000000011000000001111110011000\",\n",
    "             \"011001100001111110000000011001100001111110000111111000011000\",\n",
    "             \"000001100001100110000000011000011110000001111110000000011110\",\n",
    "             \"000001111110011000011111100001111111100000011111100001111110\"],\n",
    "\n",
    " \"data\": [\n",
    "   {\"par\": [\n",
    "       [\n",
    "           {\n",
    "               \"raw_hex\": {\n",
    "                   \"signals\": [\"Data2_0\", \"Data2_1\"],\n",
    "                   \"data\": \"0000000000000 111111000011000000001100001100110 000000011000011000000001111110000000011000000001111110011000 011001100001111110000000011001100001111110000111111000011000 000001100001100110000000011000011110000001111110000000011110 000001111110011000011111100001111111100000011111100001111110\"\n",
    "               }\n",
    "           }\n",
    "       ],\n",
    "       [\n",
    "           {\"label\": \"LOOP_LCB\"},\n",
    "           {\"raw_hex\": {\"signals\": [\"LCB_0\", \"LCB_1\"],\n",
    "                        \"data\": [\"0x7855\", \"0x7855\"]}},\n",
    "           {\"loop\": {\"to\": \"LOOP\", \"count\": 500}}\n",
    "       ]\n",
    "   ]},\n",
    "\n",
    "   {\"remark\": \"The end without a comma\"}\n",
    "  ]\n",
    "}\n",
    "```"
   ]
  },
  {
   "cell_type": "code",
   "execution_count": 1,
   "metadata": {},
   "outputs": [
    {
     "name": "stdout",
     "output_type": "stream",
     "text": [
      "0000000000000 111111000011000000001100001100110 000000011000011000000001111110000000011000000001111110011000 011001100001111110000000011001100001111110000111111000011000 000001100001100110000000011000011110000001111110000000011110 000001111110011000011111100001111111100000011111100001111110\n"
     ]
    }
   ],
   "source": [
    "data = '0000000000000 111111000011000000001100001100110 000000011000011000000001111110000000011000000001111110011000 011001100001111110000000011001100001111110000111111000011000 000001100001100110000000011000011110000001111110000000011110 000001111110011000011111100001111111100000011111100001111110'\n",
    "print(data)"
   ]
  },
  {
   "cell_type": "code",
   "execution_count": 2,
   "metadata": {},
   "outputs": [
    {
     "name": "stdout",
     "output_type": "stream",
     "text": [
      "111111000011000000001100001100110000000011000011000000001111110000000011000000001111110011000011001100001111110000000011001100001111110000111111000011000000001100001100110000000011000011110000001111110000000011110000001111110011000011111100001111111100000011111100001111110\n",
      "273\n"
     ]
    }
   ],
   "source": [
    "data = data[data.index(\" \"):].replace(\" \", \"\")\n",
    "print(data)\n",
    "print(len(data))"
   ]
  },
  {
   "cell_type": "code",
   "execution_count": 3,
   "metadata": {},
   "outputs": [
    {
     "name": "stdout",
     "output_type": "stream",
     "text": [
      "1110010000100101000010010000111000010000111010010100111000010100111001110010000100101000010011000111000011000111010011100111100011100111\n",
      "1110010000100101000010010000111000010000111010010100111000010100111001110010000100101000010011000111000011000111010011100111100011100111\n",
      "True\n"
     ]
    }
   ],
   "source": [
    "even = \"\".join([data[2*i] for i in range(len(data)//2)])\n",
    "odd = \"\".join([data[2*i+1] for i in range(len(data)//2)])\n",
    "print(even)\n",
    "print(odd)\n",
    "print(even == odd)"
   ]
  },
  {
   "cell_type": "markdown",
   "metadata": {},
   "source": [
    "There is an extra \"0\" after the first packet's stop bit, which I suppose is legal.  The stop bit at the end of the second packet is not doubled, whereas all earlier bits appear twice in this representation."
   ]
  },
  {
   "cell_type": "code",
   "execution_count": 4,
   "metadata": {},
   "outputs": [
    {
     "name": "stdout",
     "output_type": "stream",
     "text": [
      "11100100001001010000100100001110000100001110100101001110000101001110\n",
      "0\n",
      "11100100001001010000100110001110000110001110100111001111000111001110\n"
     ]
    }
   ],
   "source": [
    "packet1 = even[:68]\n",
    "packet2 = even[69:] + \"0\"\n",
    "print(packet1)\n",
    "print(even[68])\n",
    "print(packet2)"
   ]
  },
  {
   "cell_type": "code",
   "execution_count": 5,
   "metadata": {},
   "outputs": [],
   "source": [
    "from argparse import Namespace\n",
    "def pbin(b):\n",
    "    binstr = b\n",
    "    n = int(binstr,2)\n",
    "    return \"{}/{:x}/{:d}\".format(binstr, n, n)\n",
    "def decode(p):\n",
    "    \"\"\"decode an ABC output packet in binary-string format\"\"\"\n",
    "    assert len(p) == 68\n",
    "    assert p[0:3] == \"111\"\n",
    "    assert p[-1] == \"0\"\n",
    "    p = p[3:-1]\n",
    "    assert len(p) == 64\n",
    "    print(p)\n",
    "    header = p[:16]\n",
    "    payload = p[16:]\n",
    "    typ = header[0:4]\n",
    "    flag = header[4]\n",
    "    l0tag = header[5:12]\n",
    "    assert len(l0tag) == 7\n",
    "    bcid = header[12:]\n",
    "    assert len(bcid) == 4\n",
    "    print(\"typ={} flag={} l0tag={} bcid={}\".\n",
    "          format(pbin(typ), flag, pbin(l0tag), pbin(bcid)))\n",
    "    ns = Namespace()\n",
    "    ns.typ = int(typ,2)\n",
    "    ns.flag = int(flag,2)\n",
    "    ns.l0tag = int(l0tag,2)\n",
    "    ns.bcid = int(bcid,2)\n",
    "    ns.clusters = 4*[None]\n",
    "    for i in range(len(ns.clusters)):\n",
    "        clu = payload[12*i:][:12]\n",
    "        lc = clu[0]\n",
    "        addr = clu[1:9]\n",
    "        assert len(addr) == 8\n",
    "        patt = clu[9:]\n",
    "        assert len(patt) == 3\n",
    "        c = Namespace()\n",
    "        ns.clusters[i] = c\n",
    "        c.lc = int(lc,2)\n",
    "        c.addr = int(addr,2)\n",
    "        c.patt = int(patt,2)\n",
    "        print(\"cluster: lc={} addr={} patt={}\".\n",
    "             format(lc, pbin(addr), pbin(patt)))\n",
    "    return ns"
   ]
  },
  {
   "cell_type": "code",
   "execution_count": 6,
   "metadata": {},
   "outputs": [
    {
     "name": "stdout",
     "output_type": "stream",
     "text": [
      "0010000100101000010010000111000010000111010010100111000010100111\n",
      "typ=0010/2/2 flag=0 l0tag=0010010/12/18 bcid=1000/8/8\n",
      "cluster: lc=0 addr=10010000/90/144 patt=111/7/7\n",
      "cluster: lc=0 addr=00010000/10/16 patt=111/7/7\n",
      "cluster: lc=0 addr=10010100/94/148 patt=111/7/7\n",
      "cluster: lc=0 addr=00010100/14/20 patt=111/7/7\n"
     ]
    },
    {
     "data": {
      "text/plain": [
       "Namespace(bcid=8, clusters=[Namespace(addr=144, lc=0, patt=7), Namespace(addr=16, lc=0, patt=7), Namespace(addr=148, lc=0, patt=7), Namespace(addr=20, lc=0, patt=7)], flag=0, l0tag=18, typ=2)"
      ]
     },
     "execution_count": 6,
     "metadata": {},
     "output_type": "execute_result"
    }
   ],
   "source": [
    "decode(packet1)"
   ]
  },
  {
   "cell_type": "code",
   "execution_count": 7,
   "metadata": {},
   "outputs": [
    {
     "name": "stdout",
     "output_type": "stream",
     "text": [
      "0010000100101000010011000111000011000111010011100111100011100111\n",
      "typ=0010/2/2 flag=0 l0tag=0010010/12/18 bcid=1000/8/8\n",
      "cluster: lc=0 addr=10011000/98/152 patt=111/7/7\n",
      "cluster: lc=0 addr=00011000/18/24 patt=111/7/7\n",
      "cluster: lc=0 addr=10011100/9c/156 patt=111/7/7\n",
      "cluster: lc=1 addr=00011100/1c/28 patt=111/7/7\n"
     ]
    },
    {
     "data": {
      "text/plain": [
       "Namespace(bcid=8, clusters=[Namespace(addr=152, lc=0, patt=7), Namespace(addr=24, lc=0, patt=7), Namespace(addr=156, lc=0, patt=7), Namespace(addr=28, lc=1, patt=7)], flag=0, l0tag=18, typ=2)"
      ]
     },
     "execution_count": 7,
     "metadata": {},
     "output_type": "execute_result"
    }
   ],
   "source": [
    "decode(packet2)"
   ]
  },
  {
   "cell_type": "code",
   "execution_count": 8,
   "metadata": {},
   "outputs": [
    {
     "data": {
      "application/javascript": [
       "IPython.notebook.save_notebook();IPython.notebook.kernel.execute(\"do_export_ts(\" + \"'\" + IPython.notebook.notebook_name + \"')\");"
      ],
      "text/plain": [
       "<IPython.core.display.Javascript object>"
      ]
     },
     "metadata": {},
     "output_type": "display_data"
    }
   ],
   "source": [
    "run export_to_html --timestamp"
   ]
  }
 ],
 "metadata": {
  "kernelspec": {
   "display_name": "Python 3",
   "language": "python",
   "name": "python3"
  },
  "language_info": {
   "codemirror_mode": {
    "name": "ipython",
    "version": 3
   },
   "file_extension": ".py",
   "mimetype": "text/x-python",
   "name": "python",
   "nbconvert_exporter": "python",
   "pygments_lexer": "ipython3",
   "version": "3.7.3"
  }
 },
 "nbformat": 4,
 "nbformat_minor": 2
}
